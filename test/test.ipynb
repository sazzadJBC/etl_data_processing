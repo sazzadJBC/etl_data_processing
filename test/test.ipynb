{
 "cells": [
  {
   "cell_type": "code",
   "execution_count": 6,
   "id": "ffc1c260",
   "metadata": {},
   "outputs": [],
   "source": [
    "from docling.document_converter import DocumentConverter, PdfFormatOption\n",
    "from docling.datamodel.pipeline_options import PdfPipelineOptions\n",
    "from docling.datamodel.base_models import InputFormat\n",
    "from docling.datamodel.pipeline_options import smolvlm_picture_description,PictureDescriptionVlmOptions\n",
    "\n",
    "import time\n",
    "from pathlib import Path\n",
    "\n",
    "from docling_core.types.doc import PictureItem\n",
    "pipeline_options = PdfPipelineOptions()\n",
    "pipeline_options.generate_picture_images = True\n",
    "pipeline_options.images_scale = 2\n",
    "pipeline_options.do_picture_classification = True\n",
    "pipeline_options.do_picture_description = True\n",
    "# pipeline_options.picture_description_options = (\n",
    "#     repo_id = \"ChatDOC/OCRFlux-3B\"\n",
    "#     # smolvlm_picture_description  # <-- the model choice\n",
    "#)\n",
    "pipeline_options.picture_description_options = PictureDescriptionVlmOptions(\n",
    "    repo_id = \"ChatDOC/OCRFlux-3B\",  # <-- add here the Hugging Face repo_id of your favorite VLM\n",
    "    prompt=\"Extract what in document.\",\n",
    ")\n",
    "\n",
    "\n",
    "converter = DocumentConverter(format_options={\n",
    "    InputFormat.PDF: PdfFormatOption(pipeline_options=pipeline_options)\n",
    "})"
   ]
  },
  {
   "cell_type": "code",
   "execution_count": 7,
   "id": "aca55da8",
   "metadata": {},
   "outputs": [
    {
     "name": "stderr",
     "output_type": "stream",
     "text": [
      "Loading checkpoint shards: 100%|██████████| 2/2 [00:00<00:00,  9.17it/s]\n"
     ]
    }
   ],
   "source": [
    "path = \"/Users/jbc/Documents/SevenSix/etl_data_extraction/data/s3_downloads/営業本部/メーカー別/finisar/05. 代理店証明書/国立大学法人九州大学_代理店証明書.pdf\"\n",
    "DOC_SOURCE= Path(path)\n",
    "doc = converter.convert(DOC_SOURCE).document\n"
   ]
  },
  {
   "cell_type": "code",
   "execution_count": 11,
   "id": "662e365b",
   "metadata": {},
   "outputs": [
    {
     "data": {
      "text/plain": [
       "'logo\\n\\n<!-- image -->'"
      ]
     },
     "execution_count": 11,
     "metadata": {},
     "output_type": "execute_result"
    }
   ],
   "source": [
    "doc.export_to_markdown()"
   ]
  },
  {
   "cell_type": "code",
   "execution_count": 9,
   "id": "71ee8e1c",
   "metadata": {},
   "outputs": [
    {
     "data": {
      "text/html": [
       "Picture #/pictures/0 Caption"
      ],
      "text/plain": [
       "<IPython.core.display.HTML object>"
      ]
     },
     "execution_count": 9,
     "metadata": {},
     "output_type": "execute_result"
    }
   ],
   "source": [
    "from docling_core.types.doc.document import PictureDescriptionData\n",
    "from IPython import display\n",
    "\n",
    "html_buffer = []\n",
    "# display the first 5 pictures and their captions and annotations:\n",
    "for pic in doc.pictures[:5]:\n",
    "    html_item = (\n",
    "        f\"Picture {pic.self_ref}\"\n",
    "        f' '\n",
    "        f\"Caption{pic.caption_text(doc=doc)}\"\n",
    "    )\n",
    "    for annotation in pic.annotations:\n",
    "        if not isinstance(annotation, PictureDescriptionData):\n",
    "            continue\n",
    "        html_item += (\n",
    "            f\"Annotations ({annotation.provenance}){annotation.text}\\n\"\n",
    "        )\n",
    "    html_buffer.append(html_item)\n",
    "display.HTML(\"\".join(html_buffer))"
   ]
  },
  {
   "cell_type": "code",
   "execution_count": null,
   "id": "612fbf6d",
   "metadata": {},
   "outputs": [],
   "source": []
  }
 ],
 "metadata": {
  "kernelspec": {
   "display_name": "etl-data-extraction",
   "language": "python",
   "name": "python3"
  },
  "language_info": {
   "codemirror_mode": {
    "name": "ipython",
    "version": 3
   },
   "file_extension": ".py",
   "mimetype": "text/x-python",
   "name": "python",
   "nbconvert_exporter": "python",
   "pygments_lexer": "ipython3",
   "version": "3.11.9"
  }
 },
 "nbformat": 4,
 "nbformat_minor": 5
}
