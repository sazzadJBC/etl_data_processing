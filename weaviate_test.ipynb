{
 "cells": [
  {
   "cell_type": "markdown",
   "id": "4f6df3dc",
   "metadata": {},
   "source": [
    "## connect to weaviate"
   ]
  },
  {
   "cell_type": "code",
   "execution_count": 1,
   "id": "7c9c6321",
   "metadata": {},
   "outputs": [
    {
     "name": "stderr",
     "output_type": "stream",
     "text": [
      "/Users/jbc/Documents/SevenSix/etl_data_processing/.venv/lib/python3.11/site-packages/google/protobuf/runtime_version.py:98: UserWarning: Protobuf gencode version 5.29.0 is exactly one major version older than the runtime version 6.31.1 at v1/aggregate.proto. Please update the gencode to avoid compatibility violations in the next runtime release.\n",
      "  warnings.warn(\n",
      "/Users/jbc/Documents/SevenSix/etl_data_processing/.venv/lib/python3.11/site-packages/google/protobuf/runtime_version.py:98: UserWarning: Protobuf gencode version 5.29.0 is exactly one major version older than the runtime version 6.31.1 at v1/base.proto. Please update the gencode to avoid compatibility violations in the next runtime release.\n",
      "  warnings.warn(\n",
      "/Users/jbc/Documents/SevenSix/etl_data_processing/.venv/lib/python3.11/site-packages/google/protobuf/runtime_version.py:98: UserWarning: Protobuf gencode version 5.29.0 is exactly one major version older than the runtime version 6.31.1 at v1/base_search.proto. Please update the gencode to avoid compatibility violations in the next runtime release.\n",
      "  warnings.warn(\n",
      "/Users/jbc/Documents/SevenSix/etl_data_processing/.venv/lib/python3.11/site-packages/google/protobuf/runtime_version.py:98: UserWarning: Protobuf gencode version 5.29.0 is exactly one major version older than the runtime version 6.31.1 at v1/batch_delete.proto. Please update the gencode to avoid compatibility violations in the next runtime release.\n",
      "  warnings.warn(\n",
      "/Users/jbc/Documents/SevenSix/etl_data_processing/.venv/lib/python3.11/site-packages/google/protobuf/runtime_version.py:98: UserWarning: Protobuf gencode version 5.29.0 is exactly one major version older than the runtime version 6.31.1 at v1/batch.proto. Please update the gencode to avoid compatibility violations in the next runtime release.\n",
      "  warnings.warn(\n",
      "/Users/jbc/Documents/SevenSix/etl_data_processing/.venv/lib/python3.11/site-packages/google/protobuf/runtime_version.py:98: UserWarning: Protobuf gencode version 5.29.0 is exactly one major version older than the runtime version 6.31.1 at v1/search_get.proto. Please update the gencode to avoid compatibility violations in the next runtime release.\n",
      "  warnings.warn(\n",
      "/Users/jbc/Documents/SevenSix/etl_data_processing/.venv/lib/python3.11/site-packages/google/protobuf/runtime_version.py:98: UserWarning: Protobuf gencode version 5.29.0 is exactly one major version older than the runtime version 6.31.1 at v1/generative.proto. Please update the gencode to avoid compatibility violations in the next runtime release.\n",
      "  warnings.warn(\n",
      "/Users/jbc/Documents/SevenSix/etl_data_processing/.venv/lib/python3.11/site-packages/google/protobuf/runtime_version.py:98: UserWarning: Protobuf gencode version 5.29.0 is exactly one major version older than the runtime version 6.31.1 at v1/properties.proto. Please update the gencode to avoid compatibility violations in the next runtime release.\n",
      "  warnings.warn(\n",
      "/Users/jbc/Documents/SevenSix/etl_data_processing/.venv/lib/python3.11/site-packages/google/protobuf/runtime_version.py:98: UserWarning: Protobuf gencode version 5.29.0 is exactly one major version older than the runtime version 6.31.1 at v1/tenants.proto. Please update the gencode to avoid compatibility violations in the next runtime release.\n",
      "  warnings.warn(\n"
     ]
    }
   ],
   "source": [
    "import weaviate\n",
    "import os\n",
    "from dotenv import load_dotenv\n",
    "load_dotenv(override=True  )\n",
    "headers = {\n",
    "    \"X-JinaAI-Api-Key\": os.getenv(\"JINAAI_API_KEY\")\n",
    "}\n",
    "\n",
    "client = weaviate.connect_to_local(headers=headers)"
   ]
  },
  {
   "cell_type": "markdown",
   "id": "6321e004",
   "metadata": {},
   "source": [
    "## Check existing collections"
   ]
  },
  {
   "cell_type": "code",
   "execution_count": 2,
   "id": "220f0730",
   "metadata": {},
   "outputs": [
    {
     "data": {
      "text/plain": [
       "{'Business_data_collection': _CollectionConfigSimple(name='Business_data_collection', description=None, generative_config=None, properties=[_Property(name='text', description=None, data_type=<DataType.TEXT: 'text'>, index_filterable=True, index_range_filters=False, index_searchable=True, nested_properties=None, tokenization=<Tokenization.WORD: 'word'>, vectorizer_config=None, vectorizer=None, vectorizer_configs={'text2vec-jinaai': _PropertyVectorizerConfig(skip=False, vectorize_property_name=False)}), _Property(name='source', description=None, data_type=<DataType.TEXT: 'text'>, index_filterable=True, index_range_filters=False, index_searchable=True, nested_properties=None, tokenization=<Tokenization.WORD: 'word'>, vectorizer_config=None, vectorizer=None, vectorizer_configs={'text2vec-jinaai': _PropertyVectorizerConfig(skip=False, vectorize_property_name=False)})], references=[], reranker_config=_RerankerConfig(model={'model': 'jina-reranker-v2-base-multilingual'}, reranker=<Rerankers.JINAAI: 'reranker-jinaai'>), vectorizer_config=None, vectorizer=None, vector_config={'text_vector': _NamedVectorConfig(vectorizer=_NamedVectorizerConfig(vectorizer=<Vectorizers.TEXT2VEC_JINAAI: 'text2vec-jinaai'>, model={'baseURL': 'https://api.jina.ai', 'model': 'jina-embeddings-v3', 'vectorizeClassName': True}, source_properties=['text']), vector_index_config=_VectorIndexConfigHNSW(multi_vector=None, quantizer=None, cleanup_interval_seconds=300, distance_metric=<VectorDistances.COSINE: 'cosine'>, dynamic_ef_min=100, dynamic_ef_max=500, dynamic_ef_factor=8, ef=-1, ef_construction=128, filter_strategy=<VectorFilterStrategy.SWEEPING: 'sweeping'>, flat_search_cutoff=40000, max_connections=32, skip=False, vector_cache_max_objects=1000000000000))})}"
      ]
     },
     "execution_count": 2,
     "metadata": {},
     "output_type": "execute_result"
    }
   ],
   "source": [
    "## get all collections\n",
    "client.collections.list_all()"
   ]
  },
  {
   "cell_type": "code",
   "execution_count": null,
   "id": "fc352047",
   "metadata": {},
   "outputs": [
    {
     "name": "stdout",
     "output_type": "stream",
     "text": [
      "config of collection: _CollectionConfig(name='DemoCollection', description=None, generative_config=None, inverted_index_config=_InvertedIndexConfig(bm25=_BM25Config(b=0.75, k1=1.2), cleanup_interval_seconds=60, index_null_state=False, index_property_length=False, index_timestamps=False, stopwords=_StopwordsConfig(preset=<StopwordsPreset.EN: 'en'>, additions=None, removals=None)), multi_tenancy_config=_MultiTenancyConfig(enabled=False, auto_tenant_creation=False, auto_tenant_activation=False), properties=[], references=[], replication_config=_ReplicationConfig(factor=1, async_enabled=False, deletion_strategy=<ReplicationDeletionStrategy.NO_AUTOMATED_RESOLUTION: 'NoAutomatedResolution'>), reranker_config=None, sharding_config=_ShardingConfig(virtual_per_physical=128, desired_count=1, actual_count=1, desired_virtual_count=128, actual_virtual_count=128, key='_id', strategy='hash', function='murmur3'), vector_index_config=None, vector_index_type=None, vectorizer_config=None, vectorizer=None, vector_config={'title_vector': _NamedVectorConfig(vectorizer=_NamedVectorizerConfig(vectorizer=<Vectorizers.TEXT2VEC_TRANSFORMERS: 'text2vec-transformers'>, model={'poolingStrategy': 'masked_mean', 'vectorizeClassName': True}, source_properties=['title']), vector_index_config=_VectorIndexConfigHNSW(multi_vector=None, quantizer=None, cleanup_interval_seconds=300, distance_metric=<VectorDistances.COSINE: 'cosine'>, dynamic_ef_min=100, dynamic_ef_max=500, dynamic_ef_factor=8, ef=-1, ef_construction=128, filter_strategy=<VectorFilterStrategy.SWEEPING: 'sweeping'>, flat_search_cutoff=40000, max_connections=32, skip=False, vector_cache_max_objects=1000000000000))})\n",
      "properties : []\n"
     ]
    }
   ],
   "source": [
    "## connect single collection\n",
    "collection = client.collections.get(\"DemoCollection\")\n",
    "print(\"config of collection:\",collection.config.get())\n",
    "print(\"properties :\",collection.config.get().properties)"
   ]
  },
  {
   "cell_type": "markdown",
   "id": "f140dad3",
   "metadata": {},
   "source": [
    "## Create connection\n",
    "Weaviate follows GraphQL naming conventions. \n",
    "- Start collection names with an upper case letter.\n",
    "- Start property names with a lower case letter.\n",
    "\n",
    "N.T: if mismatch GraphQL format, weaviate chates it internally.\n",
    "\n",
    "### Production ready collections\n",
    "1. **Manually define you data schema:-** Avoid using the auto-schema feature, instead, manually define the properties for your collection.\n",
    "2. **Avoid creating too many collections:-** Using too many collections can lead to scalability issues like high memory usage and degraded query performance. Instead, consider using multi-tenancy, where a single collection is subdivided into multiple tenants."
   ]
  },
  {
   "cell_type": "code",
   "execution_count": null,
   "id": "a26c01e3",
   "metadata": {},
   "outputs": [
    {
     "data": {
      "text/plain": [
       "_CollectionConfig(name='DemoCollection1', description=None, generative_config=None, inverted_index_config=_InvertedIndexConfig(bm25=_BM25Config(b=0.75, k1=1.2), cleanup_interval_seconds=60, index_null_state=False, index_property_length=False, index_timestamps=False, stopwords=_StopwordsConfig(preset=<StopwordsPreset.EN: 'en'>, additions=None, removals=None)), multi_tenancy_config=_MultiTenancyConfig(enabled=False, auto_tenant_creation=False, auto_tenant_activation=False), properties=[_Property(name='name', description=None, data_type=<DataType.TEXT: 'text'>, index_filterable=True, index_range_filters=False, index_searchable=True, nested_properties=None, tokenization=<Tokenization.WORD: 'word'>, vectorizer_config=None, vectorizer=None, vectorizer_configs={'text2vec-transformers': _PropertyVectorizerConfig(skip=False, vectorize_property_name=False)}), _Property(name='age', description=None, data_type=<DataType.INT: 'int'>, index_filterable=True, index_range_filters=False, index_searchable=False, nested_properties=None, tokenization=None, vectorizer_config=None, vectorizer=None, vectorizer_configs={'text2vec-transformers': _PropertyVectorizerConfig(skip=False, vectorize_property_name=False)}), _Property(name='email', description=None, data_type=<DataType.TEXT: 'text'>, index_filterable=True, index_range_filters=False, index_searchable=True, nested_properties=None, tokenization=<Tokenization.WORD: 'word'>, vectorizer_config=None, vectorizer=None, vectorizer_configs={'text2vec-transformers': _PropertyVectorizerConfig(skip=False, vectorize_property_name=False)})], references=[], replication_config=_ReplicationConfig(factor=1, async_enabled=False, deletion_strategy=<ReplicationDeletionStrategy.NO_AUTOMATED_RESOLUTION: 'NoAutomatedResolution'>), reranker_config=None, sharding_config=_ShardingConfig(virtual_per_physical=128, desired_count=1, actual_count=1, desired_virtual_count=128, actual_virtual_count=128, key='_id', strategy='hash', function='murmur3'), vector_index_config=None, vector_index_type=None, vectorizer_config=None, vectorizer=None, vector_config={'text_vector': _NamedVectorConfig(vectorizer=_NamedVectorizerConfig(vectorizer=<Vectorizers.TEXT2VEC_TRANSFORMERS: 'text2vec-transformers'>, model={'poolingStrategy': 'masked_mean', 'vectorizeClassName': True}, source_properties=['text']), vector_index_config=_VectorIndexConfigHNSW(multi_vector=None, quantizer=None, cleanup_interval_seconds=300, distance_metric=<VectorDistances.COSINE: 'cosine'>, dynamic_ef_min=100, dynamic_ef_max=500, dynamic_ef_factor=8, ef=-1, ef_construction=128, filter_strategy=<VectorFilterStrategy.SWEEPING: 'sweeping'>, flat_search_cutoff=40000, max_connections=32, skip=False, vector_cache_max_objects=1000000000000))})"
      ]
     },
     "execution_count": 22,
     "metadata": {},
     "output_type": "execute_result"
    }
   ],
   "source": [
    "import weaviate.classes.config as wc\n",
    "collection  = client.collections.create(\n",
    "    name=\"DemoCollection1\",\n",
    "    properties=[\n",
    "            wc.Property(name=\"name\", data_type=wc.DataType.TEXT),\n",
    "            wc.Property(name=\"age\", data_type=wc.DataType.INT),\n",
    "            wc.Property(name=\"email\", data_type=wc.DataType.TEXT),\n",
    "        ],\n",
    "    vector_config=wc.Configure.Vectors.text2vec_transformers(\n",
    "        name=\"text_vector\",\n",
    "        source_properties=[\"text\"]\n",
    "    )\n",
    "    )\n",
    "collection.config.get()"
   ]
  },
  {
   "cell_type": "code",
   "execution_count": 23,
   "id": "e7cb13a4",
   "metadata": {},
   "outputs": [
    {
     "name": "stdout",
     "output_type": "stream",
     "text": [
      "properties : [_Property(name='name', description=None, data_type=<DataType.TEXT: 'text'>, index_filterable=True, index_range_filters=False, index_searchable=True, nested_properties=None, tokenization=<Tokenization.WORD: 'word'>, vectorizer_config=None, vectorizer=None, vectorizer_configs={'text2vec-transformers': _PropertyVectorizerConfig(skip=False, vectorize_property_name=False)}), _Property(name='age', description=None, data_type=<DataType.INT: 'int'>, index_filterable=True, index_range_filters=False, index_searchable=False, nested_properties=None, tokenization=None, vectorizer_config=None, vectorizer=None, vectorizer_configs={'text2vec-transformers': _PropertyVectorizerConfig(skip=False, vectorize_property_name=False)}), _Property(name='email', description=None, data_type=<DataType.TEXT: 'text'>, index_filterable=True, index_range_filters=False, index_searchable=True, nested_properties=None, tokenization=<Tokenization.WORD: 'word'>, vectorizer_config=None, vectorizer=None, vectorizer_configs={'text2vec-transformers': _PropertyVectorizerConfig(skip=False, vectorize_property_name=False)}), _Property(name='new_', description='A new property added to the collection', data_type=<DataType.TEXT: 'text'>, index_filterable=True, index_range_filters=False, index_searchable=True, nested_properties=None, tokenization=<Tokenization.WORD: 'word'>, vectorizer_config=None, vectorizer=None, vectorizer_configs={'text2vec-transformers': _PropertyVectorizerConfig(skip=False, vectorize_property_name=True)})]\n"
     ]
    }
   ],
   "source": [
    "### Add a new property to the collection\n",
    "import weaviate.classes.config as wc\n",
    "collection.config.add_property(\n",
    "    wc.Property(\n",
    "        name=\"new_\",\n",
    "        data_type=wc.DataType.TEXT,\n",
    "        description=\"A new property added to the collection\"\n",
    "    )\n",
    ")\n",
    "print(\"properties :\",collection.config.get().properties)"
   ]
  },
  {
   "cell_type": "code",
   "execution_count": null,
   "id": "188ddd12",
   "metadata": {},
   "outputs": [],
   "source": [
    "#### update the collection definition\n",
    "\n",
    "import weaviate.classes.config as wc\n",
    "\n",
    "articles = client.collections.get(\"DemoCollection1\")\n",
    "\n",
    "# Update the collection definition\n",
    "articles.config.update(\n",
    "    description=\"An updated collection description.\",\n",
    "    # property_descriptions={\n",
    "    #     \"title\": \"The updated title description for article\",\n",
    "    # },  # Available from Weaviate v1.31.0\n",
    "    inverted_index_config=wc.Reconfigure.inverted_index(bm25_b=0.75,  \n",
    "        bm25_k1=1.5,  \n",
    "    ),\n",
    " \n",
    "    vector_config=wc.Reconfigure.Vectors.update(\n",
    "        name=\"text_vector\",\n",
    "        vector_index_config=wc.Reconfigure.VectorIndex.hnsw(\n",
    "            filter_strategy=wc.VectorFilterStrategy.ACORN  # Available from Weaviate v1.27.0\n",
    "        ),\n",
    "    ),\n",
    "    replication_config=wc.Reconfigure.replication(\n",
    "        deletion_strategy=wc.ReplicationDeletionStrategy.TIME_BASED_RESOLUTION  # Available from Weaviate v1.28.0\n",
    "    ),\n",
    ")\n"
   ]
  },
  {
   "cell_type": "code",
   "execution_count": null,
   "id": "a0eb67c7",
   "metadata": {},
   "outputs": [
    {
     "name": "stdout",
     "output_type": "stream",
     "text": [
      "{'36h64iLx7vL9': 'READY'}\n"
     ]
    }
   ],
   "source": [
    "articles = client.collections.get(\"DemoCollection1\")\n",
    "\n",
    "article_shards = articles.config.update_shards(\n",
    "    status=\"READY\",\n",
    "    # shard_names=[\"shard_names\"],  # The names (List[str]) of the shard to update (or a shard name)\n",
    ")\n",
    "print(article_shards)"
   ]
  },
  {
   "cell_type": "markdown",
   "id": "65ba6947",
   "metadata": {},
   "source": [
    "## Delete Collections"
   ]
  },
  {
   "cell_type": "code",
   "execution_count": 34,
   "id": "ec723ca3",
   "metadata": {},
   "outputs": [],
   "source": [
    "## single collection delete\n",
    "client.collections.delete(\"DemoCollection1\")\n",
    "## delete all collections\n",
    "client.collections.delete_all()"
   ]
  },
  {
   "cell_type": "code",
   "execution_count": 35,
   "id": "77fbcbad",
   "metadata": {},
   "outputs": [
    {
     "data": {
      "text/plain": [
       "{}"
      ]
     },
     "execution_count": 35,
     "metadata": {},
     "output_type": "execute_result"
    }
   ],
   "source": [
    "client.collections.list_all()"
   ]
  },
  {
   "cell_type": "markdown",
   "id": "deada707",
   "metadata": {},
   "source": [
    "## test weaviate dataset by viewing"
   ]
  },
  {
   "cell_type": "code",
   "execution_count": 15,
   "id": "aba51671",
   "metadata": {},
   "outputs": [],
   "source": [
    "import weaviate\n",
    "import os\n",
    "from dotenv import load_dotenv\n",
    "load_dotenv(override=True  )\n",
    "headers = {\n",
    "    \"X-JinaAI-Api-Key\": os.getenv(\"JINAAI_API_KEY\")\n",
    "}\n",
    "\n",
    "client = weaviate.connect_to_local(headers=headers)"
   ]
  },
  {
   "cell_type": "code",
   "execution_count": 17,
   "id": "95af1dc5",
   "metadata": {},
   "outputs": [
    {
     "data": {
      "text/plain": [
       "{'Business_data_collection': _CollectionConfigSimple(name='Business_data_collection', description=None, generative_config=None, properties=[_Property(name='text', description=None, data_type=<DataType.TEXT: 'text'>, index_filterable=True, index_range_filters=False, index_searchable=True, nested_properties=None, tokenization=<Tokenization.WORD: 'word'>, vectorizer_config=None, vectorizer=None, vectorizer_configs={'text2vec-jinaai': _PropertyVectorizerConfig(skip=False, vectorize_property_name=False)}), _Property(name='source', description=None, data_type=<DataType.TEXT: 'text'>, index_filterable=True, index_range_filters=False, index_searchable=True, nested_properties=None, tokenization=<Tokenization.WORD: 'word'>, vectorizer_config=None, vectorizer=None, vectorizer_configs={'text2vec-jinaai': _PropertyVectorizerConfig(skip=False, vectorize_property_name=False)})], references=[], reranker_config=_RerankerConfig(model={'model': 'jina-reranker-v2-base-multilingual'}, reranker=<Rerankers.JINAAI: 'reranker-jinaai'>), vectorizer_config=None, vectorizer=None, vector_config={'text_vector': _NamedVectorConfig(vectorizer=_NamedVectorizerConfig(vectorizer=<Vectorizers.TEXT2VEC_JINAAI: 'text2vec-jinaai'>, model={'baseURL': 'https://api.jina.ai', 'model': 'jina-embeddings-v3', 'vectorizeClassName': True}, source_properties=['text']), vector_index_config=_VectorIndexConfigHNSW(multi_vector=None, quantizer=None, cleanup_interval_seconds=300, distance_metric=<VectorDistances.COSINE: 'cosine'>, dynamic_ef_min=100, dynamic_ef_max=500, dynamic_ef_factor=8, ef=-1, ef_construction=128, filter_strategy=<VectorFilterStrategy.SWEEPING: 'sweeping'>, flat_search_cutoff=40000, max_connections=32, skip=False, vector_cache_max_objects=1000000000000))})}"
      ]
     },
     "execution_count": 17,
     "metadata": {},
     "output_type": "execute_result"
    }
   ],
   "source": [
    "client.collections.list_all()"
   ]
  },
  {
   "cell_type": "code",
   "execution_count": 19,
   "id": "250435db",
   "metadata": {},
   "outputs": [
    {
     "name": "stderr",
     "output_type": "stream",
     "text": [
      "/Users/jbc/Documents/SevenSix/etl_data_processing/.venv/lib/python3.11/site-packages/weaviate/warnings.py:292: ResourceWarning: Con004: The connection to Weaviate was not closed properly. This can lead to memory leaks.\n",
      "            Please make sure to close the connection using `client.close()`.\n",
      "  warnings.warn(\n",
      "/Users/jbc/Documents/SevenSix/etl_data_processing/.venv/lib/python3.11/site-packages/pygments/regexopt.py:78: ResourceWarning: unclosed <socket.socket fd=80, family=30, type=1, proto=6, laddr=('::1', 49819, 0, 0), raddr=('::1', 8080, 0, 0)>\n",
      "  for group in groupby(strings, lambda s: s[0] == first[0])) \\\n",
      "ResourceWarning: Enable tracemalloc to get the object allocation traceback\n"
     ]
    },
    {
     "ename": "UnexpectedStatusCodeError",
     "evalue": "Collection configuration could not be retrieved.! Unexpected status code: 404, with response body: None.",
     "output_type": "error",
     "traceback": [
      "\u001b[31m---------------------------------------------------------------------------\u001b[39m",
      "\u001b[31mUnexpectedStatusCodeError\u001b[39m                 Traceback (most recent call last)",
      "\u001b[36mCell\u001b[39m\u001b[36m \u001b[39m\u001b[32mIn[19]\u001b[39m\u001b[32m, line 3\u001b[39m\n\u001b[32m      1\u001b[39m collection_name= \u001b[33m\"\u001b[39m\u001b[33mBusiness_data_collection1\u001b[39m\u001b[33m\"\u001b[39m \n\u001b[32m      2\u001b[39m collection = client.collections.get(collection_name)\n\u001b[32m----> \u001b[39m\u001b[32m3\u001b[39m \u001b[43mcollection\u001b[49m\u001b[43m.\u001b[49m\u001b[43mconfig\u001b[49m\u001b[43m.\u001b[49m\u001b[43mget\u001b[49m\u001b[43m(\u001b[49m\u001b[43m)\u001b[49m\n",
      "\u001b[36mFile \u001b[39m\u001b[32m~/Documents/SevenSix/etl_data_processing/.venv/lib/python3.11/site-packages/weaviate/collections/config/executor.py:120\u001b[39m, in \u001b[36m_ConfigCollectionExecutor.get\u001b[39m\u001b[34m(self, simple)\u001b[39m\n\u001b[32m    117\u001b[39m         \u001b[38;5;28;01mreturn\u001b[39;00m _collection_config_simple_from_json(res)\n\u001b[32m    118\u001b[39m     \u001b[38;5;28;01mreturn\u001b[39;00m _collection_config_from_json(res)\n\u001b[32m--> \u001b[39m\u001b[32m120\u001b[39m \u001b[38;5;28;01mreturn\u001b[39;00m \u001b[43mexecutor\u001b[49m\u001b[43m.\u001b[49m\u001b[43mexecute\u001b[49m\u001b[43m(\u001b[49m\n\u001b[32m    121\u001b[39m \u001b[43m    \u001b[49m\u001b[43mresponse_callback\u001b[49m\u001b[43m=\u001b[49m\u001b[43mresp\u001b[49m\u001b[43m,\u001b[49m\n\u001b[32m    122\u001b[39m \u001b[43m    \u001b[49m\u001b[43mmethod\u001b[49m\u001b[43m=\u001b[49m\u001b[38;5;28;43mself\u001b[39;49m\u001b[43m.\u001b[49m\u001b[43m__get\u001b[49m\u001b[43m,\u001b[49m\n\u001b[32m    123\u001b[39m \u001b[43m\u001b[49m\u001b[43m)\u001b[49m\n",
      "\u001b[36mFile \u001b[39m\u001b[32m~/Documents/SevenSix/etl_data_processing/.venv/lib/python3.11/site-packages/weaviate/connect/executor.py:99\u001b[39m, in \u001b[36mexecute\u001b[39m\u001b[34m(method, response_callback, exception_callback, *args, **kwargs)\u001b[39m\n\u001b[32m     97\u001b[39m     \u001b[38;5;28;01mreturn\u001b[39;00m resp_call\n\u001b[32m     98\u001b[39m \u001b[38;5;28;01mexcept\u001b[39;00m \u001b[38;5;167;01mException\u001b[39;00m \u001b[38;5;28;01mas\u001b[39;00m e:\n\u001b[32m---> \u001b[39m\u001b[32m99\u001b[39m     \u001b[38;5;28;01mreturn\u001b[39;00m cast(T, \u001b[43mexception_callback\u001b[49m\u001b[43m(\u001b[49m\u001b[43me\u001b[49m\u001b[43m)\u001b[49m)\n",
      "\u001b[36mFile \u001b[39m\u001b[32m~/Documents/SevenSix/etl_data_processing/.venv/lib/python3.11/site-packages/weaviate/connect/executor.py:38\u001b[39m, in \u001b[36mraise_exception\u001b[39m\u001b[34m(e)\u001b[39m\n\u001b[32m     37\u001b[39m \u001b[38;5;28;01mdef\u001b[39;00m\u001b[38;5;250m \u001b[39m\u001b[34mraise_exception\u001b[39m(e: \u001b[38;5;167;01mException\u001b[39;00m) -> Any:\n\u001b[32m---> \u001b[39m\u001b[32m38\u001b[39m     \u001b[38;5;28;01mraise\u001b[39;00m e\n",
      "\u001b[36mFile \u001b[39m\u001b[32m~/Documents/SevenSix/etl_data_processing/.venv/lib/python3.11/site-packages/weaviate/connect/executor.py:80\u001b[39m, in \u001b[36mexecute\u001b[39m\u001b[34m(method, response_callback, exception_callback, *args, **kwargs)\u001b[39m\n\u001b[32m     71\u001b[39m \u001b[38;5;28;01mdef\u001b[39;00m\u001b[38;5;250m \u001b[39m\u001b[34mexecute\u001b[39m(\n\u001b[32m     72\u001b[39m     method: SyncOrAsyncMethod[P, R],\n\u001b[32m     73\u001b[39m     response_callback: SyncOrAsyncCallback[R, T, A],\n\u001b[32m   (...)\u001b[39m\u001b[32m     77\u001b[39m ) -> Union[T, Awaitable[T], Awaitable[A]]:\n\u001b[32m     78\u001b[39m     \u001b[38;5;66;03m# wrap method call in try-except to catch exceptions for sync method\u001b[39;00m\n\u001b[32m     79\u001b[39m     \u001b[38;5;28;01mtry\u001b[39;00m:\n\u001b[32m---> \u001b[39m\u001b[32m80\u001b[39m         call = \u001b[43mmethod\u001b[49m\u001b[43m(\u001b[49m\u001b[43m*\u001b[49m\u001b[43margs\u001b[49m\u001b[43m,\u001b[49m\u001b[43m \u001b[49m\u001b[43m*\u001b[49m\u001b[43m*\u001b[49m\u001b[43mkwargs\u001b[49m\u001b[43m)\u001b[49m\n\u001b[32m     81\u001b[39m         \u001b[38;5;28;01mif\u001b[39;00m \u001b[38;5;28misinstance\u001b[39m(call, Awaitable):\n\u001b[32m     83\u001b[39m             \u001b[38;5;28;01masync\u001b[39;00m \u001b[38;5;28;01mdef\u001b[39;00m\u001b[38;5;250m \u001b[39m\u001b[34m_execute\u001b[39m() -> T:\n\u001b[32m     84\u001b[39m                 \u001b[38;5;66;03m# wrap await in try-except to catch exceptions for async method\u001b[39;00m\n",
      "\u001b[36mFile \u001b[39m\u001b[32m~/Documents/SevenSix/etl_data_processing/.venv/lib/python3.11/site-packages/weaviate/collections/config/executor.py:74\u001b[39m, in \u001b[36m_ConfigCollectionExecutor.__get\u001b[39m\u001b[34m(self)\u001b[39m\n\u001b[32m     71\u001b[39m \u001b[38;5;28;01mdef\u001b[39;00m\u001b[38;5;250m \u001b[39m\u001b[34mresp\u001b[39m(res: Response) -> Dict[\u001b[38;5;28mstr\u001b[39m, Any]:\n\u001b[32m     72\u001b[39m     \u001b[38;5;28;01mreturn\u001b[39;00m cast(Dict[\u001b[38;5;28mstr\u001b[39m, Any], res.json())\n\u001b[32m---> \u001b[39m\u001b[32m74\u001b[39m \u001b[38;5;28;01mreturn\u001b[39;00m \u001b[43mexecutor\u001b[49m\u001b[43m.\u001b[49m\u001b[43mexecute\u001b[49m\u001b[43m(\u001b[49m\n\u001b[32m     75\u001b[39m \u001b[43m    \u001b[49m\u001b[43mresponse_callback\u001b[49m\u001b[43m=\u001b[49m\u001b[43mresp\u001b[49m\u001b[43m,\u001b[49m\n\u001b[32m     76\u001b[39m \u001b[43m    \u001b[49m\u001b[43mmethod\u001b[49m\u001b[43m=\u001b[49m\u001b[38;5;28;43mself\u001b[39;49m\u001b[43m.\u001b[49m\u001b[43m_connection\u001b[49m\u001b[43m.\u001b[49m\u001b[43mget\u001b[49m\u001b[43m,\u001b[49m\n\u001b[32m     77\u001b[39m \u001b[43m    \u001b[49m\u001b[43mpath\u001b[49m\u001b[43m=\u001b[49m\u001b[33;43mf\u001b[39;49m\u001b[33;43m\"\u001b[39;49m\u001b[33;43m/schema/\u001b[39;49m\u001b[38;5;132;43;01m{\u001b[39;49;00m\u001b[38;5;28;43mself\u001b[39;49m\u001b[43m.\u001b[49m\u001b[43m_name\u001b[49m\u001b[38;5;132;43;01m}\u001b[39;49;00m\u001b[33;43m\"\u001b[39;49m\u001b[43m,\u001b[49m\n\u001b[32m     78\u001b[39m \u001b[43m    \u001b[49m\u001b[43merror_msg\u001b[49m\u001b[43m=\u001b[49m\u001b[33;43m\"\u001b[39;49m\u001b[33;43mCollection configuration could not be retrieved.\u001b[39;49m\u001b[33;43m\"\u001b[39;49m\u001b[43m,\u001b[49m\n\u001b[32m     79\u001b[39m \u001b[43m    \u001b[49m\u001b[43mstatus_codes\u001b[49m\u001b[43m=\u001b[49m\u001b[43m_ExpectedStatusCodes\u001b[49m\u001b[43m(\u001b[49m\u001b[43mok_in\u001b[49m\u001b[43m=\u001b[49m\u001b[32;43m200\u001b[39;49m\u001b[43m,\u001b[49m\u001b[43m \u001b[49m\u001b[43merror\u001b[49m\u001b[43m=\u001b[49m\u001b[33;43m\"\u001b[39;49m\u001b[33;43mGet collection configuration\u001b[39;49m\u001b[33;43m\"\u001b[39;49m\u001b[43m)\u001b[49m\u001b[43m,\u001b[49m\n\u001b[32m     80\u001b[39m \u001b[43m\u001b[49m\u001b[43m)\u001b[49m\n",
      "\u001b[36mFile \u001b[39m\u001b[32m~/Documents/SevenSix/etl_data_processing/.venv/lib/python3.11/site-packages/weaviate/connect/executor.py:99\u001b[39m, in \u001b[36mexecute\u001b[39m\u001b[34m(method, response_callback, exception_callback, *args, **kwargs)\u001b[39m\n\u001b[32m     97\u001b[39m     \u001b[38;5;28;01mreturn\u001b[39;00m resp_call\n\u001b[32m     98\u001b[39m \u001b[38;5;28;01mexcept\u001b[39;00m \u001b[38;5;167;01mException\u001b[39;00m \u001b[38;5;28;01mas\u001b[39;00m e:\n\u001b[32m---> \u001b[39m\u001b[32m99\u001b[39m     \u001b[38;5;28;01mreturn\u001b[39;00m cast(T, \u001b[43mexception_callback\u001b[49m\u001b[43m(\u001b[49m\u001b[43me\u001b[49m\u001b[43m)\u001b[49m)\n",
      "\u001b[36mFile \u001b[39m\u001b[32m~/Documents/SevenSix/etl_data_processing/.venv/lib/python3.11/site-packages/weaviate/connect/executor.py:38\u001b[39m, in \u001b[36mraise_exception\u001b[39m\u001b[34m(e)\u001b[39m\n\u001b[32m     37\u001b[39m \u001b[38;5;28;01mdef\u001b[39;00m\u001b[38;5;250m \u001b[39m\u001b[34mraise_exception\u001b[39m(e: \u001b[38;5;167;01mException\u001b[39;00m) -> Any:\n\u001b[32m---> \u001b[39m\u001b[32m38\u001b[39m     \u001b[38;5;28;01mraise\u001b[39;00m e\n",
      "\u001b[36mFile \u001b[39m\u001b[32m~/Documents/SevenSix/etl_data_processing/.venv/lib/python3.11/site-packages/weaviate/connect/executor.py:80\u001b[39m, in \u001b[36mexecute\u001b[39m\u001b[34m(method, response_callback, exception_callback, *args, **kwargs)\u001b[39m\n\u001b[32m     71\u001b[39m \u001b[38;5;28;01mdef\u001b[39;00m\u001b[38;5;250m \u001b[39m\u001b[34mexecute\u001b[39m(\n\u001b[32m     72\u001b[39m     method: SyncOrAsyncMethod[P, R],\n\u001b[32m     73\u001b[39m     response_callback: SyncOrAsyncCallback[R, T, A],\n\u001b[32m   (...)\u001b[39m\u001b[32m     77\u001b[39m ) -> Union[T, Awaitable[T], Awaitable[A]]:\n\u001b[32m     78\u001b[39m     \u001b[38;5;66;03m# wrap method call in try-except to catch exceptions for sync method\u001b[39;00m\n\u001b[32m     79\u001b[39m     \u001b[38;5;28;01mtry\u001b[39;00m:\n\u001b[32m---> \u001b[39m\u001b[32m80\u001b[39m         call = \u001b[43mmethod\u001b[49m\u001b[43m(\u001b[49m\u001b[43m*\u001b[49m\u001b[43margs\u001b[49m\u001b[43m,\u001b[49m\u001b[43m \u001b[49m\u001b[43m*\u001b[49m\u001b[43m*\u001b[49m\u001b[43mkwargs\u001b[49m\u001b[43m)\u001b[49m\n\u001b[32m     81\u001b[39m         \u001b[38;5;28;01mif\u001b[39;00m \u001b[38;5;28misinstance\u001b[39m(call, Awaitable):\n\u001b[32m     83\u001b[39m             \u001b[38;5;28;01masync\u001b[39;00m \u001b[38;5;28;01mdef\u001b[39;00m\u001b[38;5;250m \u001b[39m\u001b[34m_execute\u001b[39m() -> T:\n\u001b[32m     84\u001b[39m                 \u001b[38;5;66;03m# wrap await in try-except to catch exceptions for async method\u001b[39;00m\n",
      "\u001b[36mFile \u001b[39m\u001b[32m~/Documents/SevenSix/etl_data_processing/.venv/lib/python3.11/site-packages/weaviate/connect/v4.py:857\u001b[39m, in \u001b[36m_ConnectionBase.get\u001b[39m\u001b[34m(self, path, params, error_msg, status_codes, check_is_connected)\u001b[39m\n\u001b[32m    849\u001b[39m \u001b[38;5;28;01mdef\u001b[39;00m\u001b[38;5;250m \u001b[39m\u001b[34mget\u001b[39m(\n\u001b[32m    850\u001b[39m     \u001b[38;5;28mself\u001b[39m,\n\u001b[32m    851\u001b[39m     path: \u001b[38;5;28mstr\u001b[39m,\n\u001b[32m   (...)\u001b[39m\u001b[32m    855\u001b[39m     check_is_connected: \u001b[38;5;28mbool\u001b[39m = \u001b[38;5;28;01mTrue\u001b[39;00m,\n\u001b[32m    856\u001b[39m ) -> executor.Result[Response]:\n\u001b[32m--> \u001b[39m\u001b[32m857\u001b[39m     \u001b[38;5;28;01mreturn\u001b[39;00m \u001b[38;5;28;43mself\u001b[39;49m\u001b[43m.\u001b[49m\u001b[43m_send\u001b[49m\u001b[43m(\u001b[49m\n\u001b[32m    858\u001b[39m \u001b[43m        \u001b[49m\u001b[33;43m\"\u001b[39;49m\u001b[33;43mGET\u001b[39;49m\u001b[33;43m\"\u001b[39;49m\u001b[43m,\u001b[49m\n\u001b[32m    859\u001b[39m \u001b[43m        \u001b[49m\u001b[43murl\u001b[49m\u001b[43m=\u001b[49m\u001b[38;5;28;43mself\u001b[39;49m\u001b[43m.\u001b[49m\u001b[43murl\u001b[49m\u001b[43m \u001b[49m\u001b[43m+\u001b[49m\u001b[43m \u001b[49m\u001b[38;5;28;43mself\u001b[39;49m\u001b[43m.\u001b[49m\u001b[43m_api_version_path\u001b[49m\u001b[43m \u001b[49m\u001b[43m+\u001b[49m\u001b[43m \u001b[49m\u001b[43mpath\u001b[49m\u001b[43m,\u001b[49m\n\u001b[32m    860\u001b[39m \u001b[43m        \u001b[49m\u001b[43mparams\u001b[49m\u001b[43m=\u001b[49m\u001b[43mparams\u001b[49m\u001b[43m,\u001b[49m\n\u001b[32m    861\u001b[39m \u001b[43m        \u001b[49m\u001b[43merror_msg\u001b[49m\u001b[43m=\u001b[49m\u001b[43merror_msg\u001b[49m\u001b[43m,\u001b[49m\n\u001b[32m    862\u001b[39m \u001b[43m        \u001b[49m\u001b[43mstatus_codes\u001b[49m\u001b[43m=\u001b[49m\u001b[43mstatus_codes\u001b[49m\u001b[43m,\u001b[49m\n\u001b[32m    863\u001b[39m \u001b[43m        \u001b[49m\u001b[43mcheck_is_connected\u001b[49m\u001b[43m=\u001b[49m\u001b[43mcheck_is_connected\u001b[49m\u001b[43m,\u001b[49m\n\u001b[32m    864\u001b[39m \u001b[43m    \u001b[49m\u001b[43m)\u001b[49m\n",
      "\u001b[36mFile \u001b[39m\u001b[32m~/Documents/SevenSix/etl_data_processing/.venv/lib/python3.11/site-packages/weaviate/connect/v4.py:716\u001b[39m, in \u001b[36m_ConnectionBase._send\u001b[39m\u001b[34m(self, method, url, error_msg, status_codes, is_gql_query, weaviate_object, params, check_is_connected)\u001b[39m\n\u001b[32m    713\u001b[39m \u001b[38;5;28;01mdef\u001b[39;00m\u001b[38;5;250m \u001b[39m\u001b[34mexc\u001b[39m(e: \u001b[38;5;167;01mException\u001b[39;00m) -> \u001b[38;5;28;01mNone\u001b[39;00m:\n\u001b[32m    714\u001b[39m     \u001b[38;5;28mself\u001b[39m.__handle_exceptions(e, error_msg)\n\u001b[32m--> \u001b[39m\u001b[32m716\u001b[39m \u001b[38;5;28;01mreturn\u001b[39;00m \u001b[43mexecutor\u001b[49m\u001b[43m.\u001b[49m\u001b[43mexecute\u001b[49m\u001b[43m(\u001b[49m\n\u001b[32m    717\u001b[39m \u001b[43m    \u001b[49m\u001b[43mresponse_callback\u001b[49m\u001b[43m=\u001b[49m\u001b[43mresp\u001b[49m\u001b[43m,\u001b[49m\n\u001b[32m    718\u001b[39m \u001b[43m    \u001b[49m\u001b[43mexception_callback\u001b[49m\u001b[43m=\u001b[49m\u001b[43mexc\u001b[49m\u001b[43m,\u001b[49m\n\u001b[32m    719\u001b[39m \u001b[43m    \u001b[49m\u001b[43mmethod\u001b[49m\u001b[43m=\u001b[49m\u001b[38;5;28;43mself\u001b[39;49m\u001b[43m.\u001b[49m\u001b[43m_client\u001b[49m\u001b[43m.\u001b[49m\u001b[43msend\u001b[49m\u001b[43m,\u001b[49m\n\u001b[32m    720\u001b[39m \u001b[43m    \u001b[49m\u001b[43mrequest\u001b[49m\u001b[43m=\u001b[49m\u001b[43mrequest\u001b[49m\u001b[43m,\u001b[49m\n\u001b[32m    721\u001b[39m \u001b[43m\u001b[49m\u001b[43m)\u001b[49m\n",
      "\u001b[36mFile \u001b[39m\u001b[32m~/Documents/SevenSix/etl_data_processing/.venv/lib/python3.11/site-packages/weaviate/connect/executor.py:99\u001b[39m, in \u001b[36mexecute\u001b[39m\u001b[34m(method, response_callback, exception_callback, *args, **kwargs)\u001b[39m\n\u001b[32m     97\u001b[39m     \u001b[38;5;28;01mreturn\u001b[39;00m resp_call\n\u001b[32m     98\u001b[39m \u001b[38;5;28;01mexcept\u001b[39;00m \u001b[38;5;167;01mException\u001b[39;00m \u001b[38;5;28;01mas\u001b[39;00m e:\n\u001b[32m---> \u001b[39m\u001b[32m99\u001b[39m     \u001b[38;5;28;01mreturn\u001b[39;00m cast(T, \u001b[43mexception_callback\u001b[49m\u001b[43m(\u001b[49m\u001b[43me\u001b[49m\u001b[43m)\u001b[49m)\n",
      "\u001b[36mFile \u001b[39m\u001b[32m~/Documents/SevenSix/etl_data_processing/.venv/lib/python3.11/site-packages/weaviate/connect/v4.py:714\u001b[39m, in \u001b[36m_ConnectionBase._send.<locals>.exc\u001b[39m\u001b[34m(e)\u001b[39m\n\u001b[32m    713\u001b[39m \u001b[38;5;28;01mdef\u001b[39;00m\u001b[38;5;250m \u001b[39m\u001b[34mexc\u001b[39m(e: \u001b[38;5;167;01mException\u001b[39;00m) -> \u001b[38;5;28;01mNone\u001b[39;00m:\n\u001b[32m--> \u001b[39m\u001b[32m714\u001b[39m     \u001b[38;5;28;43mself\u001b[39;49m\u001b[43m.\u001b[49m\u001b[43m__handle_exceptions\u001b[49m\u001b[43m(\u001b[49m\u001b[43me\u001b[49m\u001b[43m,\u001b[49m\u001b[43m \u001b[49m\u001b[43merror_msg\u001b[49m\u001b[43m)\u001b[49m\n",
      "\u001b[36mFile \u001b[39m\u001b[32m~/Documents/SevenSix/etl_data_processing/.venv/lib/python3.11/site-packages/weaviate/connect/v4.py:670\u001b[39m, in \u001b[36m_ConnectionBase.__handle_exceptions\u001b[39m\u001b[34m(self, e, error_msg)\u001b[39m\n\u001b[32m    668\u001b[39m \u001b[38;5;28;01mif\u001b[39;00m \u001b[38;5;28misinstance\u001b[39m(e, ReadTimeout):\n\u001b[32m    669\u001b[39m     \u001b[38;5;28;01mraise\u001b[39;00m WeaviateTimeoutError(error_msg) \u001b[38;5;28;01mfrom\u001b[39;00m\u001b[38;5;250m \u001b[39m\u001b[34;01me\u001b[39;00m\n\u001b[32m--> \u001b[39m\u001b[32m670\u001b[39m \u001b[38;5;28;01mraise\u001b[39;00m e\n",
      "\u001b[36mFile \u001b[39m\u001b[32m~/Documents/SevenSix/etl_data_processing/.venv/lib/python3.11/site-packages/weaviate/connect/executor.py:95\u001b[39m, in \u001b[36mexecute\u001b[39m\u001b[34m(method, response_callback, exception_callback, *args, **kwargs)\u001b[39m\n\u001b[32m     92\u001b[39m             \u001b[38;5;28;01mreturn\u001b[39;00m cast(T, exception_callback(e))\n\u001b[32m     94\u001b[39m     \u001b[38;5;28;01mreturn\u001b[39;00m _execute()\n\u001b[32m---> \u001b[39m\u001b[32m95\u001b[39m resp_call = \u001b[43mresponse_callback\u001b[49m\u001b[43m(\u001b[49m\u001b[43mcall\u001b[49m\u001b[43m)\u001b[49m\n\u001b[32m     96\u001b[39m \u001b[38;5;28;01massert\u001b[39;00m \u001b[38;5;129;01mnot\u001b[39;00m \u001b[38;5;28misinstance\u001b[39m(resp_call, Awaitable)\n\u001b[32m     97\u001b[39m \u001b[38;5;28;01mreturn\u001b[39;00m resp_call\n",
      "\u001b[36mFile \u001b[39m\u001b[32m~/Documents/SevenSix/etl_data_processing/.venv/lib/python3.11/site-packages/weaviate/connect/v4.py:711\u001b[39m, in \u001b[36m_ConnectionBase._send.<locals>.resp\u001b[39m\u001b[34m(res)\u001b[39m\n\u001b[32m    710\u001b[39m \u001b[38;5;28;01mdef\u001b[39;00m\u001b[38;5;250m \u001b[39m\u001b[34mresp\u001b[39m(res: Response) -> Response:\n\u001b[32m--> \u001b[39m\u001b[32m711\u001b[39m     \u001b[38;5;28;01mreturn\u001b[39;00m \u001b[38;5;28;43mself\u001b[39;49m\u001b[43m.\u001b[49m\u001b[43m__handle_response\u001b[49m\u001b[43m(\u001b[49m\u001b[43mres\u001b[49m\u001b[43m,\u001b[49m\u001b[43m \u001b[49m\u001b[43merror_msg\u001b[49m\u001b[43m,\u001b[49m\u001b[43m \u001b[49m\u001b[43mstatus_codes\u001b[49m\u001b[43m)\u001b[49m\n",
      "\u001b[36mFile \u001b[39m\u001b[32m~/Documents/SevenSix/etl_data_processing/.venv/lib/python3.11/site-packages/weaviate/connect/v4.py:681\u001b[39m, in \u001b[36m_ConnectionBase.__handle_response\u001b[39m\u001b[34m(self, response, error_msg, status_codes)\u001b[39m\n\u001b[32m    679\u001b[39m     \u001b[38;5;28;01mraise\u001b[39;00m InsufficientPermissionsError(response)\n\u001b[32m    680\u001b[39m \u001b[38;5;28;01mif\u001b[39;00m status_codes \u001b[38;5;129;01mis\u001b[39;00m \u001b[38;5;129;01mnot\u001b[39;00m \u001b[38;5;28;01mNone\u001b[39;00m \u001b[38;5;129;01mand\u001b[39;00m response.status_code \u001b[38;5;129;01mnot\u001b[39;00m \u001b[38;5;129;01min\u001b[39;00m status_codes.ok:\n\u001b[32m--> \u001b[39m\u001b[32m681\u001b[39m     \u001b[38;5;28;01mraise\u001b[39;00m UnexpectedStatusCodeError(error_msg, response)\n\u001b[32m    682\u001b[39m \u001b[38;5;28;01mreturn\u001b[39;00m response\n",
      "\u001b[31mUnexpectedStatusCodeError\u001b[39m: Collection configuration could not be retrieved.! Unexpected status code: 404, with response body: None."
     ]
    }
   ],
   "source": [
    "collection_name= \"Business_data_collection1\" \n",
    "collection = client.collections.get(collection_name)\n",
    "collection.config.get()"
   ]
  },
  {
   "cell_type": "code",
   "execution_count": 18,
   "id": "90ec80ba",
   "metadata": {},
   "outputs": [
    {
     "name": "stdout",
     "output_type": "stream",
     "text": [
      "Retrieving all objects from collection: Business_data_collection1\n"
     ]
    },
    {
     "ename": "WeaviateQueryError",
     "evalue": "Query call with protocol GRPC search failed with message could not find class Business_data_collection1 in schema.",
     "output_type": "error",
     "traceback": [
      "\u001b[31m---------------------------------------------------------------------------\u001b[39m",
      "\u001b[31m_InactiveRpcError\u001b[39m                         Traceback (most recent call last)",
      "\u001b[36mFile \u001b[39m\u001b[32m~/Documents/SevenSix/etl_data_processing/.venv/lib/python3.11/site-packages/weaviate/connect/v4.py:985\u001b[39m, in \u001b[36mConnectionSync.grpc_search\u001b[39m\u001b[34m(self, request)\u001b[39m\n\u001b[32m    984\u001b[39m \u001b[38;5;28;01massert\u001b[39;00m \u001b[38;5;28mself\u001b[39m.grpc_stub \u001b[38;5;129;01mis\u001b[39;00m \u001b[38;5;129;01mnot\u001b[39;00m \u001b[38;5;28;01mNone\u001b[39;00m\n\u001b[32m--> \u001b[39m\u001b[32m985\u001b[39m res = \u001b[43m_Retry\u001b[49m\u001b[43m(\u001b[49m\u001b[32;43m4\u001b[39;49m\u001b[43m)\u001b[49m\u001b[43m.\u001b[49m\u001b[43mwith_exponential_backoff\u001b[49m\u001b[43m(\u001b[49m\n\u001b[32m    986\u001b[39m \u001b[43m    \u001b[49m\u001b[32;43m0\u001b[39;49m\u001b[43m,\u001b[49m\n\u001b[32m    987\u001b[39m \u001b[43m    \u001b[49m\u001b[33;43mf\u001b[39;49m\u001b[33;43m\"\u001b[39;49m\u001b[33;43mSearching in collection \u001b[39;49m\u001b[38;5;132;43;01m{\u001b[39;49;00m\u001b[43mrequest\u001b[49m\u001b[43m.\u001b[49m\u001b[43mcollection\u001b[49m\u001b[38;5;132;43;01m}\u001b[39;49;00m\u001b[33;43m\"\u001b[39;49m\u001b[43m,\u001b[49m\n\u001b[32m    988\u001b[39m \u001b[43m    \u001b[49m\u001b[38;5;28;43mself\u001b[39;49m\u001b[43m.\u001b[49m\u001b[43mgrpc_stub\u001b[49m\u001b[43m.\u001b[49m\u001b[43mSearch\u001b[49m\u001b[43m,\u001b[49m\n\u001b[32m    989\u001b[39m \u001b[43m    \u001b[49m\u001b[43mrequest\u001b[49m\u001b[43m,\u001b[49m\n\u001b[32m    990\u001b[39m \u001b[43m    \u001b[49m\u001b[43mmetadata\u001b[49m\u001b[43m=\u001b[49m\u001b[38;5;28;43mself\u001b[39;49m\u001b[43m.\u001b[49m\u001b[43mgrpc_headers\u001b[49m\u001b[43m(\u001b[49m\u001b[43m)\u001b[49m\u001b[43m,\u001b[49m\n\u001b[32m    991\u001b[39m \u001b[43m    \u001b[49m\u001b[43mtimeout\u001b[49m\u001b[43m=\u001b[49m\u001b[38;5;28;43mself\u001b[39;49m\u001b[43m.\u001b[49m\u001b[43mtimeout_config\u001b[49m\u001b[43m.\u001b[49m\u001b[43mquery\u001b[49m\u001b[43m,\u001b[49m\n\u001b[32m    992\u001b[39m \u001b[43m\u001b[49m\u001b[43m)\u001b[49m\n\u001b[32m    993\u001b[39m \u001b[38;5;28;01mreturn\u001b[39;00m cast(search_get_pb2.SearchReply, res)\n",
      "\u001b[36mFile \u001b[39m\u001b[32m~/Documents/SevenSix/etl_data_processing/.venv/lib/python3.11/site-packages/weaviate/retry.py:54\u001b[39m, in \u001b[36m_Retry.with_exponential_backoff\u001b[39m\u001b[34m(self, count, error, f, *args, **kwargs)\u001b[39m\n\u001b[32m     53\u001b[39m \u001b[38;5;28;01mif\u001b[39;00m err.code() != StatusCode.UNAVAILABLE:\n\u001b[32m---> \u001b[39m\u001b[32m54\u001b[39m     \u001b[38;5;28;01mraise\u001b[39;00m e\n\u001b[32m     55\u001b[39m logger.info(\n\u001b[32m     56\u001b[39m     \u001b[33mf\u001b[39m\u001b[33m\"\u001b[39m\u001b[38;5;132;01m{\u001b[39;00merror\u001b[38;5;132;01m}\u001b[39;00m\u001b[33m received exception: \u001b[39m\u001b[38;5;132;01m{\u001b[39;00me\u001b[38;5;132;01m}\u001b[39;00m\u001b[33m. Retrying with exponential backoff in \u001b[39m\u001b[38;5;132;01m{\u001b[39;00m\u001b[32m2\u001b[39m**count\u001b[38;5;132;01m}\u001b[39;00m\u001b[33m seconds\u001b[39m\u001b[33m\"\u001b[39m\n\u001b[32m     57\u001b[39m )\n",
      "\u001b[36mFile \u001b[39m\u001b[32m~/Documents/SevenSix/etl_data_processing/.venv/lib/python3.11/site-packages/weaviate/retry.py:50\u001b[39m, in \u001b[36m_Retry.with_exponential_backoff\u001b[39m\u001b[34m(self, count, error, f, *args, **kwargs)\u001b[39m\n\u001b[32m     49\u001b[39m \u001b[38;5;28;01mtry\u001b[39;00m:\n\u001b[32m---> \u001b[39m\u001b[32m50\u001b[39m     \u001b[38;5;28;01mreturn\u001b[39;00m \u001b[43mf\u001b[49m\u001b[43m(\u001b[49m\u001b[43m*\u001b[49m\u001b[43margs\u001b[49m\u001b[43m,\u001b[49m\u001b[43m \u001b[49m\u001b[43m*\u001b[49m\u001b[43m*\u001b[49m\u001b[43mkwargs\u001b[49m\u001b[43m)\u001b[49m\n\u001b[32m     51\u001b[39m \u001b[38;5;28;01mexcept\u001b[39;00m RpcError \u001b[38;5;28;01mas\u001b[39;00m e:\n",
      "\u001b[36mFile \u001b[39m\u001b[32m~/Documents/SevenSix/etl_data_processing/.venv/lib/python3.11/site-packages/grpc/_channel.py:1178\u001b[39m, in \u001b[36m_UnaryUnaryMultiCallable.__call__\u001b[39m\u001b[34m(self, request, timeout, metadata, credentials, wait_for_ready, compression)\u001b[39m\n\u001b[32m   1175\u001b[39m state, call = \u001b[38;5;28mself\u001b[39m._blocking(\n\u001b[32m   1176\u001b[39m     request, timeout, metadata, credentials, wait_for_ready, compression\n\u001b[32m   1177\u001b[39m )\n\u001b[32m-> \u001b[39m\u001b[32m1178\u001b[39m \u001b[38;5;28;01mreturn\u001b[39;00m \u001b[43m_end_unary_response_blocking\u001b[49m\u001b[43m(\u001b[49m\u001b[43mstate\u001b[49m\u001b[43m,\u001b[49m\u001b[43m \u001b[49m\u001b[43mcall\u001b[49m\u001b[43m,\u001b[49m\u001b[43m \u001b[49m\u001b[38;5;28;43;01mFalse\u001b[39;49;00m\u001b[43m,\u001b[49m\u001b[43m \u001b[49m\u001b[38;5;28;43;01mNone\u001b[39;49;00m\u001b[43m)\u001b[49m\n",
      "\u001b[36mFile \u001b[39m\u001b[32m~/Documents/SevenSix/etl_data_processing/.venv/lib/python3.11/site-packages/grpc/_channel.py:1006\u001b[39m, in \u001b[36m_end_unary_response_blocking\u001b[39m\u001b[34m(state, call, with_call, deadline)\u001b[39m\n\u001b[32m   1005\u001b[39m \u001b[38;5;28;01melse\u001b[39;00m:\n\u001b[32m-> \u001b[39m\u001b[32m1006\u001b[39m     \u001b[38;5;28;01mraise\u001b[39;00m _InactiveRpcError(state)\n",
      "\u001b[31m_InactiveRpcError\u001b[39m: <_InactiveRpcError of RPC that terminated with:\n\tstatus = StatusCode.UNKNOWN\n\tdetails = \"could not find class Business_data_collection1 in schema\"\n\tdebug_error_string = \"UNKNOWN:Error received from peer  {grpc_message:\"could not find class Business_data_collection1 in schema\", grpc_status:2}\"\n>",
      "\nDuring handling of the above exception, another exception occurred:\n",
      "\u001b[31mWeaviateQueryError\u001b[39m                        Traceback (most recent call last)",
      "\u001b[36mCell\u001b[39m\u001b[36m \u001b[39m\u001b[32mIn[18]\u001b[39m\u001b[32m, line 8\u001b[39m\n\u001b[32m      6\u001b[39m \u001b[38;5;66;03m# Iterate through all objects in the collection\u001b[39;00m\n\u001b[32m      7\u001b[39m \u001b[38;5;28mprint\u001b[39m(\u001b[33mf\u001b[39m\u001b[33m\"\u001b[39m\u001b[33mRetrieving all objects from collection: \u001b[39m\u001b[38;5;132;01m{\u001b[39;00mcollection_name\u001b[38;5;132;01m}\u001b[39;00m\u001b[33m\"\u001b[39m)\n\u001b[32m----> \u001b[39m\u001b[32m8\u001b[39m \u001b[38;5;28;43;01mfor\u001b[39;49;00m\u001b[43m \u001b[49m\u001b[43mitem\u001b[49m\u001b[43m \u001b[49m\u001b[38;5;129;43;01min\u001b[39;49;00m\u001b[43m \u001b[49m\u001b[43mcollection\u001b[49m\u001b[43m.\u001b[49m\u001b[43miterator\u001b[49m\u001b[43m(\u001b[49m\u001b[43minclude_vector\u001b[49m\u001b[43m=\u001b[49m\u001b[38;5;28;43;01mTrue\u001b[39;49;00m\u001b[43m)\u001b[49m\u001b[43m:\u001b[49m\n\u001b[32m      9\u001b[39m \u001b[43m    \u001b[49m\u001b[38;5;28;43mprint\u001b[39;49m\u001b[43m(\u001b[49m\u001b[43mjson\u001b[49m\u001b[43m.\u001b[49m\u001b[43mdumps\u001b[49m\u001b[43m(\u001b[49m\u001b[43mitem\u001b[49m\u001b[43m.\u001b[49m\u001b[43mproperties\u001b[49m\u001b[43m,\u001b[49m\u001b[43m \u001b[49m\u001b[43mindent\u001b[49m\u001b[43m=\u001b[49m\u001b[32;43m2\u001b[39;49m\u001b[43m)\u001b[49m\u001b[43m)\u001b[49m\n\u001b[32m     10\u001b[39m     \u001b[38;5;66;03m# Check if vector is included\u001b[39;00m\n\u001b[32m     11\u001b[39m     \u001b[38;5;66;03m# if item.vector:\u001b[39;00m\n\u001b[32m     12\u001b[39m     \u001b[38;5;66;03m#     print(f\"  Vector: {item.vector[:5]}...\") # print first 5 elements of vector\u001b[39;00m\n",
      "\u001b[36mFile \u001b[39m\u001b[32m~/Documents/SevenSix/etl_data_processing/.venv/lib/python3.11/site-packages/weaviate/collections/iterator.py:70\u001b[39m, in \u001b[36m_ObjectIterator.__next__\u001b[39m\u001b[34m(self)\u001b[39m\n\u001b[32m     68\u001b[39m \u001b[38;5;28;01mdef\u001b[39;00m\u001b[38;5;250m \u001b[39m\u001b[34m__next__\u001b[39m(\u001b[38;5;28mself\u001b[39m) -> Object[TProperties, TReferences]:\n\u001b[32m     69\u001b[39m     \u001b[38;5;28;01mif\u001b[39;00m \u001b[38;5;28mlen\u001b[39m(\u001b[38;5;28mself\u001b[39m.__iter_object_cache) == \u001b[32m0\u001b[39m:\n\u001b[32m---> \u001b[39m\u001b[32m70\u001b[39m         res = \u001b[38;5;28;43mself\u001b[39;49m\u001b[43m.\u001b[49m\u001b[43m__query\u001b[49m\u001b[43m.\u001b[49m\u001b[43mfetch_objects\u001b[49m\u001b[43m(\u001b[49m\n\u001b[32m     71\u001b[39m \u001b[43m            \u001b[49m\u001b[43mlimit\u001b[49m\u001b[43m=\u001b[49m\u001b[38;5;28;43mself\u001b[39;49m\u001b[43m.\u001b[49m\u001b[43m__iter_cache_size\u001b[49m\u001b[43m,\u001b[49m\n\u001b[32m     72\u001b[39m \u001b[43m            \u001b[49m\u001b[43mafter\u001b[49m\u001b[43m=\u001b[49m\u001b[38;5;28;43mself\u001b[39;49m\u001b[43m.\u001b[49m\u001b[43m__iter_object_last_uuid\u001b[49m\u001b[43m,\u001b[49m\n\u001b[32m     73\u001b[39m \u001b[43m            \u001b[49m\u001b[43minclude_vector\u001b[49m\u001b[43m=\u001b[49m\u001b[38;5;28;43mself\u001b[39;49m\u001b[43m.\u001b[49m\u001b[43m__inputs\u001b[49m\u001b[43m.\u001b[49m\u001b[43minclude_vector\u001b[49m\u001b[43m,\u001b[49m\n\u001b[32m     74\u001b[39m \u001b[43m            \u001b[49m\u001b[43mreturn_metadata\u001b[49m\u001b[43m=\u001b[49m\u001b[38;5;28;43mself\u001b[39;49m\u001b[43m.\u001b[49m\u001b[43m__inputs\u001b[49m\u001b[43m.\u001b[49m\u001b[43mreturn_metadata\u001b[49m\u001b[43m,\u001b[49m\n\u001b[32m     75\u001b[39m \u001b[43m            \u001b[49m\u001b[43mreturn_properties\u001b[49m\u001b[43m=\u001b[49m\u001b[38;5;28;43mself\u001b[39;49m\u001b[43m.\u001b[49m\u001b[43m__inputs\u001b[49m\u001b[43m.\u001b[49m\u001b[43mreturn_properties\u001b[49m\u001b[43m,\u001b[49m\n\u001b[32m     76\u001b[39m \u001b[43m            \u001b[49m\u001b[43mreturn_references\u001b[49m\u001b[43m=\u001b[49m\u001b[38;5;28;43mself\u001b[39;49m\u001b[43m.\u001b[49m\u001b[43m__inputs\u001b[49m\u001b[43m.\u001b[49m\u001b[43mreturn_references\u001b[49m\u001b[43m,\u001b[49m\n\u001b[32m     77\u001b[39m \u001b[43m        \u001b[49m\u001b[43m)\u001b[49m\n\u001b[32m     78\u001b[39m         \u001b[38;5;28mself\u001b[39m.__iter_object_cache = res.objects  \u001b[38;5;66;03m# type: ignore\u001b[39;00m\n\u001b[32m     79\u001b[39m         \u001b[38;5;28;01mif\u001b[39;00m \u001b[38;5;28mlen\u001b[39m(\u001b[38;5;28mself\u001b[39m.__iter_object_cache) == \u001b[32m0\u001b[39m:\n",
      "\u001b[36mFile \u001b[39m\u001b[32m~/Documents/SevenSix/etl_data_processing/.venv/lib/python3.11/site-packages/weaviate/collections/queries/fetch_objects/query/executor.py:199\u001b[39m, in \u001b[36m_FetchObjectsQueryExecutor.fetch_objects\u001b[39m\u001b[34m(self, limit, offset, after, filters, sort, include_vector, return_metadata, return_properties, return_references)\u001b[39m\n\u001b[32m    175\u001b[39m     \u001b[38;5;28;01mreturn\u001b[39;00m cast(\n\u001b[32m    176\u001b[39m         Any,\n\u001b[32m    177\u001b[39m         \u001b[38;5;28mself\u001b[39m._result_to_query_return(\n\u001b[32m   (...)\u001b[39m\u001b[32m    186\u001b[39m         ),\n\u001b[32m    187\u001b[39m     )\n\u001b[32m    189\u001b[39m request = \u001b[38;5;28mself\u001b[39m._query.get(\n\u001b[32m    190\u001b[39m     limit=limit,\n\u001b[32m    191\u001b[39m     offset=offset,\n\u001b[32m   (...)\u001b[39m\u001b[32m    197\u001b[39m     return_references=\u001b[38;5;28mself\u001b[39m._parse_return_references(cast(Any, return_references)),\n\u001b[32m    198\u001b[39m )\n\u001b[32m--> \u001b[39m\u001b[32m199\u001b[39m \u001b[38;5;28;01mreturn\u001b[39;00m \u001b[43mexecutor\u001b[49m\u001b[43m.\u001b[49m\u001b[43mexecute\u001b[49m\u001b[43m(\u001b[49m\n\u001b[32m    200\u001b[39m \u001b[43m    \u001b[49m\u001b[43mresponse_callback\u001b[49m\u001b[43m=\u001b[49m\u001b[43mresp\u001b[49m\u001b[43m,\u001b[49m\n\u001b[32m    201\u001b[39m \u001b[43m    \u001b[49m\u001b[43mmethod\u001b[49m\u001b[43m=\u001b[49m\u001b[38;5;28;43mself\u001b[39;49m\u001b[43m.\u001b[49m\u001b[43m_connection\u001b[49m\u001b[43m.\u001b[49m\u001b[43mgrpc_search\u001b[49m\u001b[43m,\u001b[49m\n\u001b[32m    202\u001b[39m \u001b[43m    \u001b[49m\u001b[43mrequest\u001b[49m\u001b[43m=\u001b[49m\u001b[43mrequest\u001b[49m\u001b[43m,\u001b[49m\n\u001b[32m    203\u001b[39m \u001b[43m\u001b[49m\u001b[43m)\u001b[49m\n",
      "\u001b[36mFile \u001b[39m\u001b[32m~/Documents/SevenSix/etl_data_processing/.venv/lib/python3.11/site-packages/weaviate/connect/executor.py:99\u001b[39m, in \u001b[36mexecute\u001b[39m\u001b[34m(method, response_callback, exception_callback, *args, **kwargs)\u001b[39m\n\u001b[32m     97\u001b[39m     \u001b[38;5;28;01mreturn\u001b[39;00m resp_call\n\u001b[32m     98\u001b[39m \u001b[38;5;28;01mexcept\u001b[39;00m \u001b[38;5;167;01mException\u001b[39;00m \u001b[38;5;28;01mas\u001b[39;00m e:\n\u001b[32m---> \u001b[39m\u001b[32m99\u001b[39m     \u001b[38;5;28;01mreturn\u001b[39;00m cast(T, \u001b[43mexception_callback\u001b[49m\u001b[43m(\u001b[49m\u001b[43me\u001b[49m\u001b[43m)\u001b[49m)\n",
      "\u001b[36mFile \u001b[39m\u001b[32m~/Documents/SevenSix/etl_data_processing/.venv/lib/python3.11/site-packages/weaviate/connect/executor.py:38\u001b[39m, in \u001b[36mraise_exception\u001b[39m\u001b[34m(e)\u001b[39m\n\u001b[32m     37\u001b[39m \u001b[38;5;28;01mdef\u001b[39;00m\u001b[38;5;250m \u001b[39m\u001b[34mraise_exception\u001b[39m(e: \u001b[38;5;167;01mException\u001b[39;00m) -> Any:\n\u001b[32m---> \u001b[39m\u001b[32m38\u001b[39m     \u001b[38;5;28;01mraise\u001b[39;00m e\n",
      "\u001b[36mFile \u001b[39m\u001b[32m~/Documents/SevenSix/etl_data_processing/.venv/lib/python3.11/site-packages/weaviate/connect/executor.py:80\u001b[39m, in \u001b[36mexecute\u001b[39m\u001b[34m(method, response_callback, exception_callback, *args, **kwargs)\u001b[39m\n\u001b[32m     71\u001b[39m \u001b[38;5;28;01mdef\u001b[39;00m\u001b[38;5;250m \u001b[39m\u001b[34mexecute\u001b[39m(\n\u001b[32m     72\u001b[39m     method: SyncOrAsyncMethod[P, R],\n\u001b[32m     73\u001b[39m     response_callback: SyncOrAsyncCallback[R, T, A],\n\u001b[32m   (...)\u001b[39m\u001b[32m     77\u001b[39m ) -> Union[T, Awaitable[T], Awaitable[A]]:\n\u001b[32m     78\u001b[39m     \u001b[38;5;66;03m# wrap method call in try-except to catch exceptions for sync method\u001b[39;00m\n\u001b[32m     79\u001b[39m     \u001b[38;5;28;01mtry\u001b[39;00m:\n\u001b[32m---> \u001b[39m\u001b[32m80\u001b[39m         call = \u001b[43mmethod\u001b[49m\u001b[43m(\u001b[49m\u001b[43m*\u001b[49m\u001b[43margs\u001b[49m\u001b[43m,\u001b[49m\u001b[43m \u001b[49m\u001b[43m*\u001b[49m\u001b[43m*\u001b[49m\u001b[43mkwargs\u001b[49m\u001b[43m)\u001b[49m\n\u001b[32m     81\u001b[39m         \u001b[38;5;28;01mif\u001b[39;00m \u001b[38;5;28misinstance\u001b[39m(call, Awaitable):\n\u001b[32m     83\u001b[39m             \u001b[38;5;28;01masync\u001b[39;00m \u001b[38;5;28;01mdef\u001b[39;00m\u001b[38;5;250m \u001b[39m\u001b[34m_execute\u001b[39m() -> T:\n\u001b[32m     84\u001b[39m                 \u001b[38;5;66;03m# wrap await in try-except to catch exceptions for async method\u001b[39;00m\n",
      "\u001b[36mFile \u001b[39m\u001b[32m~/Documents/SevenSix/etl_data_processing/.venv/lib/python3.11/site-packages/weaviate/connect/v4.py:998\u001b[39m, in \u001b[36mConnectionSync.grpc_search\u001b[39m\u001b[34m(self, request)\u001b[39m\n\u001b[32m    996\u001b[39m     \u001b[38;5;28;01mif\u001b[39;00m error.code() == StatusCode.PERMISSION_DENIED:\n\u001b[32m    997\u001b[39m         \u001b[38;5;28;01mraise\u001b[39;00m InsufficientPermissionsError(error)\n\u001b[32m--> \u001b[39m\u001b[32m998\u001b[39m     \u001b[38;5;28;01mraise\u001b[39;00m WeaviateQueryError(\u001b[38;5;28mstr\u001b[39m(error.details()), \u001b[33m\"\u001b[39m\u001b[33mGRPC search\u001b[39m\u001b[33m\"\u001b[39m)  \u001b[38;5;66;03m# pyright: ignore\u001b[39;00m\n\u001b[32m    999\u001b[39m \u001b[38;5;28;01mexcept\u001b[39;00m WeaviateRetryError \u001b[38;5;28;01mas\u001b[39;00m e:\n\u001b[32m   1000\u001b[39m     \u001b[38;5;28;01mraise\u001b[39;00m WeaviateQueryError(\u001b[38;5;28mstr\u001b[39m(e), \u001b[33m\"\u001b[39m\u001b[33mGRPC search\u001b[39m\u001b[33m\"\u001b[39m)\n",
      "\u001b[31mWeaviateQueryError\u001b[39m: Query call with protocol GRPC search failed with message could not find class Business_data_collection1 in schema."
     ]
    }
   ],
   "source": [
    "import json\n",
    "collection_name= \"Business_data_collection1\"  # Replace with your actual collection name\n",
    "# Replace \"YourCollection\" with the actual name of your collection\n",
    "collection = client.collections.get(collection_name)\n",
    "\n",
    "# Iterate through all objects in the collection\n",
    "print(f\"Retrieving all objects from collection: {collection_name}\")\n",
    "for item in collection.iterator(include_vector=True):\n",
    "    print(json.dumps(item.properties, indent=2))\n",
    "    # Check if vector is included\n",
    "    # if item.vector:\n",
    "    #     print(f\"  Vector: {item.vector[:5]}...\") # print first 5 elements of vector\n",
    "print(\"Finished retrieving objects.\")"
   ]
  },
  {
   "cell_type": "code",
   "execution_count": 6,
   "id": "4dfded83",
   "metadata": {},
   "outputs": [
    {
     "data": {
      "text/plain": [
       "_CollectionConfig(name='Business_data_collection', description=None, generative_config=None, inverted_index_config=_InvertedIndexConfig(bm25=_BM25Config(b=0.75, k1=1.2), cleanup_interval_seconds=60, index_null_state=False, index_property_length=False, index_timestamps=False, stopwords=_StopwordsConfig(preset=<StopwordsPreset.EN: 'en'>, additions=None, removals=None)), multi_tenancy_config=_MultiTenancyConfig(enabled=False, auto_tenant_creation=False, auto_tenant_activation=False), properties=[_Property(name='text', description=None, data_type=<DataType.TEXT: 'text'>, index_filterable=True, index_range_filters=False, index_searchable=True, nested_properties=None, tokenization=<Tokenization.WORD: 'word'>, vectorizer_config=None, vectorizer=None, vectorizer_configs={'text2vec-jinaai': _PropertyVectorizerConfig(skip=False, vectorize_property_name=False)}), _Property(name='source', description=None, data_type=<DataType.TEXT: 'text'>, index_filterable=True, index_range_filters=False, index_searchable=True, nested_properties=None, tokenization=<Tokenization.WORD: 'word'>, vectorizer_config=None, vectorizer=None, vectorizer_configs={'text2vec-jinaai': _PropertyVectorizerConfig(skip=False, vectorize_property_name=False)})], references=[], replication_config=_ReplicationConfig(factor=1, async_enabled=False, deletion_strategy=<ReplicationDeletionStrategy.NO_AUTOMATED_RESOLUTION: 'NoAutomatedResolution'>), reranker_config=_RerankerConfig(model={'model': 'jina-reranker-v2-base-multilingual'}, reranker=<Rerankers.JINAAI: 'reranker-jinaai'>), sharding_config=_ShardingConfig(virtual_per_physical=128, desired_count=1, actual_count=1, desired_virtual_count=128, actual_virtual_count=128, key='_id', strategy='hash', function='murmur3'), vector_index_config=None, vector_index_type=None, vectorizer_config=None, vectorizer=None, vector_config={'text_vector': _NamedVectorConfig(vectorizer=_NamedVectorizerConfig(vectorizer=<Vectorizers.TEXT2VEC_JINAAI: 'text2vec-jinaai'>, model={'baseURL': 'https://api.jina.ai', 'model': 'jina-embeddings-v3', 'vectorizeClassName': True}, source_properties=['text']), vector_index_config=_VectorIndexConfigHNSW(multi_vector=None, quantizer=None, cleanup_interval_seconds=300, distance_metric=<VectorDistances.COSINE: 'cosine'>, dynamic_ef_min=100, dynamic_ef_max=500, dynamic_ef_factor=8, ef=-1, ef_construction=128, filter_strategy=<VectorFilterStrategy.SWEEPING: 'sweeping'>, flat_search_cutoff=40000, max_connections=32, skip=False, vector_cache_max_objects=1000000000000))})"
      ]
     },
     "execution_count": 6,
     "metadata": {},
     "output_type": "execute_result"
    }
   ],
   "source": [
    "collection.config.get()"
   ]
  },
  {
   "cell_type": "code",
   "execution_count": 11,
   "id": "60753a33",
   "metadata": {},
   "outputs": [
    {
     "name": "stdout",
     "output_type": "stream",
     "text": [
      "{'text': '## 8photonics pricelist for Sevensix\\n\\nlogo\\n\\n<!-- image -->\\n\\nlogo\\n\\n<!-- image -->\\n\\nother\\n\\n<!-- image -->\\n\\nlogo\\n\\n<!-- image -->\\n\\nlogo\\n\\n<!-- image -->\\n\\nlogo\\n\\n<!-- image -->\\n\\nlogo\\n\\n<!-- image -->\\n\\nlogo\\n\\n<!-- image -->\\n\\nother\\n\\n<!-- image -->\\n\\nlogo\\n\\n<!-- image -->\\n\\nlogo\\n\\n<!-- image -->\\n\\nother\\n\\n<!-- image -->\\n\\nother\\n\\n<!-- image -->\\n\\nother\\n\\n<!-- image -->\\n\\n| Category                                                        | Short Description  SKU   | List Price End Customer   | Sevensix Price (-20%)   |\\n|-----------------------------------------------------------------|--------------------------|---------------------------|-------------------------|\\n| Mechanics Small Grid-Kit                                        | GKITS                    | EUR 773.00                | EUR 618.40              |\\n| Mechanics  Medium Grid-Kit                                      | GKITM                    | EUR 1’610.00              | EUR 1’288.00            |\\n| Mechanics Large Grid-Kit                                        | GKITL                    | EUR 2’592.00              | EUR 2’073.60            |\\n| Mechanics XLarge Grid-Kit                                       | GKITXL                   | EUR 3’612.00              | EUR 2’889.60            |\\n| Electronics Butterfly laser diode driver 3A 30V                 | M2LDCTCBTF14             | EUR 1’848.00              | EUR 1’478.40            |\\n| Electronics Laser diode driver 14A 30V, TEC controller 10A 20V  | M1LDCTC3014              | EUR 1’585.00              | EUR 1’268.00            |\\n| Electronics Air cooled temperature plate with peltier element   | M2TPA25                  | EUR 952.00                | EUR 761.60              |\\n| Electronics Water cooled temperature plate with peltier element | M2TPW150                 | EUR 1’418.00              | EUR 1’134.40            |\\n| Electronics Stepper motor fiber polarization controller         | M2FPOLC                  | on request                | on request              |\\n\\nlogo\\n\\n<!-- image -->\\n\\nlogo\\n\\n<!-- image -->\\n\\nlogo\\n\\n<!-- image -->\\n\\nlogo\\n\\n<!-- image -->\\n\\nlogo\\n\\n<!-- image -->\\n\\nlogo\\n\\n<!-- image -->\\n\\nlogo\\n\\n<!-- image -->\\n\\nlogo\\n\\n<!-- image -->\\n\\nlogo\\n\\n<!-- image -->\\n\\nlogo\\n\\n<!-- image -->\\n\\n| Mechanics Butterfly laser diode driver 3A 30V with temperature controller 4xM2FCSMF   |            | EUR 404.00   | EUR 323.20   |\\n|---------------------------------------------------------------------------------------|------------|--------------|--------------|\\n| Mechanics Aluminum fiber coiling module for LMA fibers                                | 4xM1FCLMA  | EUR 276.00   | EUR 220.80   |\\n| Mechanics Aluminum component holder                                                   | 5xM2CM     | EUR 275.00   | EUR 220.00   |\\n| Mechanics Breadboard Size 1x1 M6 Taps (5 Pack)                                        | 5xM1BBM6   | EUR 205.00   | EUR 164.00   |\\n| Mechanics Breadboard Size 1x1 M4/M6 Taps (5 Pack)                                     | 5xM1BBM4M6 | EUR 165.00   | EUR 132.00   |\\n| Mechanics Breadboard Size 1x2 M6 Taps (5 Pack)                                        | 5xM2BBM6   | EUR 205.00   | EUR 164.00   |\\n| Mechanics Breadboard Size 1x2 M3 Taps (5 Pack)                                        | 5xM2BBM3   | EUR 255.00   | EUR 204.00   |\\n| Mechanics Breadboard Size 1x2 M4 Taps (5 Pack)                                        | 5xM2BBM4   | EUR 255.00   | EUR 204.00   |\\n| Mechanics Breadboard Size 1x2 M4/M6 Taps (5 Pack)                                     | 5xM2BBM4M6 | EUR 235.00   | EUR 188.00   |\\n| Mechanics Breadboard with M3/M4 Taps (5 Pack)                                         | 5xM2BBM3M4 | EUR 235.00   | EUR 188.00   |\\n\\nlogo\\n\\n<!-- image -->\\n\\nlogo\\n\\n<!-- image -->\\n\\nother\\n\\n<!-- image -->\\n\\nother\\n\\n<!-- image -->\\n\\nother\\n\\n<!-- image -->\\n\\nlogo\\n\\n<!-- image -->\\n\\nlogo\\n\\n<!-- image -->\\n\\nlogo\\n\\n<!-- image -->\\n\\nlogo\\n\\n<!-- image -->\\n\\nlogo\\n\\n<!-- image -->\\n\\n|                       | Mechanics Breadboard Size 1x2 M3/M4/M6 Taps (5 Pack)       |               | 5xM2BBM3M4M6  EUR 320.00   | EUR 256.00   |\\n|-----------------------|------------------------------------------------------------|---------------|----------------------------|--------------|\\n| Mechanics             | Customizable aluminum breadboards                          | M23BB         | on request                 | on request   |\\n| Mechanics             | Customizable aluminum breadboards                          | M3BB          | on request                 | on request   |\\n| Mechanics  POM covers | Mechanics  POM covers                                      | 5xPM2C15POM   | EUR 260.00                 | EUR 208.00   |\\n|                       | Mechanics Aluminum covers                                  | 5xPM2C15ALU   | EUR 265.00                 | EUR 212.00   |\\n| Kit                   | Butterfly Laser Diode Driver and  Fiber Coiling Kit        | BTFLDKIT      | EUR 2’722.00               | EUR 2’177.60 |\\n| Kit                   | Multimode Pump Laser Diode System Kit  (25W Air Cooled)    | PUMPLD25WKIT  | EUR 3’411.00               | EUR 2’728.80 |\\n| Kit                   | Power Fiber Amplifier Kit                                  | POWERAMPKIT   | EUR 3’687.00               | EUR 2’949.60 |\\n| Kit                   | Multimode Pump Laser Diode System Kit  (150W Water Cooled) | PUMPLD150WKIT | EUR 3’877.00               | EUR 3’101.60 |\\n| Kit                   | Master Oscillator Power Amplifier System Kit               | MOPAKIT       | EUR 6’528.00               | EUR 5’222.40 |', 'source': '/Users/jbc/Documents/SevenSix/etl_data_processing/sevensix_data/機密レベル3/営業本部/メーカー別/8photonics/8photonics product pricelist for sevensix v06-27-2023.pdf'}\n",
      "0.8419519662857056\n",
      "0.2465333193540573\n"
     ]
    }
   ],
   "source": [
    "import weaviate\n",
    "import os\n",
    "from weaviate.classes.query import MetadataQuery\n",
    "from weaviate.classes.query import Rerank\n",
    "response = collection.query.near_text(\n",
    "    query=\"MechanicsPOM cove\",\n",
    "    limit=5,\n",
    "    rerank=Rerank(\n",
    "        prop=\"text\",\n",
    "    ),\n",
    "    return_metadata=MetadataQuery(distance=True),\n",
    "    return_properties=[\"text\",\"source\"],\n",
    ")\n",
    "for o in response.objects:\n",
    "    print(o.properties)\n",
    "    print(o.metadata.distance)\n",
    "    print(o.metadata.rerank_score)"
   ]
  },
  {
   "cell_type": "code",
   "execution_count": null,
   "id": "285baf86",
   "metadata": {},
   "outputs": [],
   "source": [
    "{\n",
    "  \"metadata\": {\n",
    "    \"history\": {\n",
    "      \"value\": \"平成11年11月、科学技術振興事業団（現：国立研究開発法人科学技術振興機構）の新規事業志向型研究開発成果展開事業（プレ・ベンチャー事業）の研究課題に選出され、実用化を目指して平成14年4月に法人化。以降、複数回の本店移転や代表者交代、社名変更（光コム→XTIA→OptoComb）を経て現在に至る。\",\n",
    "      \"confidence\": null,\n",
    "      \"chunk_references\": [\n",
    "        \"fef25e10-aa5f-4b7c-9cd7-a91a8f844a17\",\n",
    "        \"56ecb6ad-7305-4412-b4c2-4fecc9e68e6c\",\n",
    "        \"aaf96f59-d4d6-41f7-997d-229df01b19ec\"\n",
    "      ]\n",
    "    },\n",
    "    \"sales_trends\": {\n",
    "      \"value\": \"近年は研究開発投資を優先し、毎期多額の赤字を計上している。令和1年6月期から令和5年6月期までの当期純損益は連続して赤字（例：令和5年6月期△338,712千円）。売上高や業績の詳細は非開示だが、資金調達により資金繰りは維持されている。\",\n",
    "      \"confidence\": null,\n",
    "      \"chunk_references\": [\n",
    "        \"8e71546d-ea28-43b2-9c53-3e69a32e5f90\",\n",
    "        \"60ea9de4-58f3-43f1-a1b3-aa32294210a1\",\n",
    "        \"bd456916-9c60-47e6-bce2-9addf7315caf\"\n",
    "      ]\n",
    "    },\n",
    "    \"group_companies\": {\n",
    "      \"value\": \"\",\n",
    "      \"confidence\": null,\n",
    "      \"chunk_references\": []\n",
    "    },\n",
    "    \"company_overview\": {\n",
    "      \"value\": \"株式会社OptoCombは、光コム技術を用いた各種測定装置・検査装置（ハードウェア）の企画・開発・製造・販売、並びにソフトウェアの開発・販売を手掛けている企業である。光コムを用いた測定装置・検査装置類は、主に自動車や輸送機器等の製造ラインに組み込まれるほか、装置単独での使用も可能である。世界で唯一この技術を産業応用に成功したとされ、国内外の大手自動車メーカー等が主要顧客である。\",\n",
    "      \"confidence\": null,\n",
    "      \"chunk_references\": [\n",
    "        \"abd21c67-cd3d-4dc6-ad5e-c00f31e9c338\",\n",
    "        \"b97d0eba-efe0-430e-949f-2ede568c771d\",\n",
    "        \"34c550f4-6b3f-4ccb-b22a-c2e7657a7b82\"\n",
    "      ]\n",
    "    },\n",
    "    \"organization_name\": {\n",
    "      \"value\": \"株式会社OptoComb\",\n",
    "      \"confidence\": null,\n",
    "      \"chunk_references\": [\n",
    "        \"646851b3-4043-4608-ac8d-12d33e42582a\",\n",
    "        \"412f013d-f1cb-4d7f-a5e3-8202f2e1b5f8\"\n",
    "      ]\n",
    "    },\n",
    "    \"past_transactions\": {\n",
    "      \"value\": \"令和2年2月にニコン（8億円）、INCJ（6億円）、JUKI（2億円）、双日（1億円）の4社と業務提携を合意し、各社を引受先とした第三者割当増資を実施。同年9月に双日を引受先とする第三者割当で4億円の増資。令和5年9月には第三者割当増資で総額約4.8億円を調達。令和6年3月にも増資で約1億円を調達した見込み。\",\n",
    "      \"confidence\": null,\n",
    "      \"chunk_references\": [\n",
    "        \"367e40e8-9c88-4ad3-b895-1723d7344a9e\",\n",
    "        \"39a65c3e-a0e9-48e4-9ac4-1543489dc0c6\"\n",
    "      ]\n",
    "    },\n",
    "    \"interview_articles\": {\n",
    "      \"value\": \"\",\n",
    "      \"confidence\": null,\n",
    "      \"chunk_references\": []\n",
    "    },\n",
    "    \"business_activities\": {\n",
    "      \"value\": \"光コム技術を用いた測定装置・検査装置の企画・開発・製造・販売、及び関連ソフトウェアの開発・販売。主な製品は「OptoComb Sensors」「OptoComb SA」「OptoComb HS」「OptoComb ATC S」「OptoComb ATC R」など。顧客の用途に合わせたカスタム品が主体で、一部汎用品もある。自動車・輸送機器、精密・医療機器業界向けが中心。\",\n",
    "      \"confidence\": null,\n",
    "      \"chunk_references\": [\n",
    "        \"abd21c67-cd3d-4dc6-ad5e-c00f31e9c338\",\n",
    "        \"378a31c5-5efa-44a7-997f-a68cfcec3a26\",\n",
    "        \"3ab6fdeb-d5e3-4c24-9f89-e2840ebcb06e\"\n",
    "      ]\n",
    "    }\n",
    "  },\n",
    "  \"extraction\": {\n",
    "    \"organization_name\": \"株式会社OptoComb\",\n",
    "    \"company_overview\": \"株式会社OptoCombは、光コム技術を用いた各種測定装置・検査装置（ハードウェア）の企画・開発・製造・販売、並びにソフトウェアの開発・販売を手掛けている企業である。光コムを用いた測定装置・検査装置類は、主に自動車や輸送機器等の製造ラインに組み込まれるほか、装置単独での使用も可能である。世界で唯一この技術を産業応用に成功したとされ、国内外の大手自動車メーカー等が主要顧客である。\",\n",
    "    \"business_activities\": \"光コム技術を用いた測定装置・検査装置の企画・開発・製造・販売、及び関連ソフトウェアの開発・販売。主な製品は「OptoComb Sensors」「OptoComb SA」「OptoComb HS」「OptoComb ATC S」「OptoComb ATC R」など。顧客の用途に合わせたカスタム品が主体で、一部汎用品もある。自動車・輸送機器、精密・医療機器業界向けが中心。\",\n",
    "    \"sales_trends\": \"近年は研究開発投資を優先し、毎期多額の赤字を計上している。令和1年6月期から令和5年6月期までの当期純損益は連続して赤字（例：令和5年6月期△338,712千円）。売上高や業績の詳細は非開示だが、資金調達により資金繰りは維持されている。\",\n",
    "    \"past_transactions\": \"令和2年2月にニコン（8億円）、INCJ（6億円）、JUKI（2億円）、双日（1億円）の4社と業務提携を合意し、各社を引受先とした第三者割当増資を実施。同年9月に双日を引受先とする第三者割当で4億円の増資。令和5年9月には第三者割当増資で総額約4.8億円を調達。令和6年3月にも増資で約1億円を調達した見込み。\",\n",
    "    \"interview_articles\": \"\",\n",
    "    \"history\": \"平成11年11月、科学技術振興事業団（現：国立研究開発法人科学技術振興機構）の新規事業志向型研究開発成果展開事業（プレ・ベンチャー事業）の研究課題に選出され、実用化を目指して平成14年4月に法人化。以降、複数回の本店移転や代表者交代、社名変更（光コム→XTIA→OptoComb）を経て現在に至る。\",\n",
    "    \"group_companies\": \"\"\n",
    "  }\n",
    "}"
   ]
  }
 ],
 "metadata": {
  "kernelspec": {
   "display_name": "etl-data-extraction",
   "language": "python",
   "name": "python3"
  },
  "language_info": {
   "codemirror_mode": {
    "name": "ipython",
    "version": 3
   },
   "file_extension": ".py",
   "mimetype": "text/x-python",
   "name": "python",
   "nbconvert_exporter": "python",
   "pygments_lexer": "ipython3",
   "version": "3.11.9"
  }
 },
 "nbformat": 4,
 "nbformat_minor": 5
}
