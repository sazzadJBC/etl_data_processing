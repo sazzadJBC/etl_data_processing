{
 "cells": [
  {
   "cell_type": "code",
   "execution_count": 1,
   "id": "b8e09e0b",
   "metadata": {},
   "outputs": [
    {
     "name": "stderr",
     "output_type": "stream",
     "text": [
      "/Users/jbc/Documents/SevenSix/etl_data_processing/.venv/lib/python3.11/site-packages/openpyxl/reader/workbook.py:118: UserWarning: Print area cannot be set to Defined name: '16期実績'!$A:$N.\n",
      "  warn(f\"Print area cannot be set to Defined name: {defn.value}.\")\n",
      "/Users/jbc/Documents/SevenSix/etl_data_processing/.venv/lib/python3.11/site-packages/openpyxl/reader/workbook.py:118: UserWarning: Print area cannot be set to Defined name: '17期実績'!$A:$N.\n",
      "  warn(f\"Print area cannot be set to Defined name: {defn.value}.\")\n",
      "/Users/jbc/Documents/SevenSix/etl_data_processing/.venv/lib/python3.11/site-packages/openpyxl/reader/workbook.py:118: UserWarning: Print area cannot be set to Defined name: '18期実績'!$A:$N.\n",
      "  warn(f\"Print area cannot be set to Defined name: {defn.value}.\")\n",
      "/Users/jbc/Documents/SevenSix/etl_data_processing/.venv/lib/python3.11/site-packages/openpyxl/reader/workbook.py:118: UserWarning: Print area cannot be set to Defined name: '19期実績'!$A:$N.\n",
      "  warn(f\"Print area cannot be set to Defined name: {defn.value}.\")\n"
     ]
    },
    {
     "data": {
      "text/plain": [
       "<pandas.io.excel._base.ExcelFile at 0x1102abe10>"
      ]
     },
     "execution_count": 1,
     "metadata": {},
     "output_type": "execute_result"
    }
   ],
   "source": [
    "import pandas as pd\n",
    "\n",
    "sheets = pd.ExcelFile('test_data/xlsx_test/★受注台帳16期-19期★.xlsx')\n",
    "sheets"
   ]
  },
  {
   "cell_type": "code",
   "execution_count": null,
   "id": "c1f68727",
   "metadata": {},
   "outputs": [],
   "source": []
  },
  {
   "cell_type": "code",
   "execution_count": null,
   "id": "7901f3a7",
   "metadata": {},
   "outputs": [
    {
     "ename": "TypeError",
     "evalue": "'property' object is not callable",
     "output_type": "error",
     "traceback": [
      "\u001b[31m---------------------------------------------------------------------------\u001b[39m",
      "\u001b[31mTypeError\u001b[39m                                 Traceback (most recent call last)",
      "\u001b[36mCell\u001b[39m\u001b[36m \u001b[39m\u001b[32mIn[7]\u001b[39m\u001b[32m, line 1\u001b[39m\n\u001b[32m----> \u001b[39m\u001b[32m1\u001b[39m \u001b[43msheet\u001b[49m\u001b[43m.\u001b[49m\u001b[43msheet_names\u001b[49m\u001b[43m(\u001b[49m\u001b[43m)\u001b[49m\n",
      "\u001b[31mTypeError\u001b[39m: 'property' object is not callable"
     ]
    }
   ],
   "source": []
  },
  {
   "cell_type": "code",
   "execution_count": null,
   "id": "93b385e0",
   "metadata": {},
   "outputs": [],
   "source": []
  }
 ],
 "metadata": {
  "kernelspec": {
   "display_name": "etl-data-extraction",
   "language": "python",
   "name": "python3"
  },
  "language_info": {
   "codemirror_mode": {
    "name": "ipython",
    "version": 3
   },
   "file_extension": ".py",
   "mimetype": "text/x-python",
   "name": "python",
   "nbconvert_exporter": "python",
   "pygments_lexer": "ipython3",
   "version": "3.11.9"
  }
 },
 "nbformat": 4,
 "nbformat_minor": 5
}
